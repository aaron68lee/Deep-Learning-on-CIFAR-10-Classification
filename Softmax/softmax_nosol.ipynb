{
 "cells": [
  {
   "cell_type": "markdown",
   "metadata": {},
   "source": [
    "## This is the softmax workbook for ECE C147/C247 Assignment #2\n",
    "\n",
    "Please follow the notebook linearly to implement a softmax classifier.\n",
    "\n",
    "Please print out the workbook entirely when completed.\n",
    "\n",
    "The goal of this workbook is to give you experience with training a softmax classifier."
   ]
  },
  {
   "cell_type": "code",
   "execution_count": 1,
   "metadata": {},
   "outputs": [],
   "source": [
    "import random\n",
    "import numpy as np\n",
    "from utils.data_utils import load_CIFAR10\n",
    "import matplotlib.pyplot as plt\n",
    "\n",
    "%matplotlib inline\n",
    "%load_ext autoreload\n",
    "%autoreload 2"
   ]
  },
  {
   "cell_type": "code",
   "execution_count": 2,
   "metadata": {
    "scrolled": true
   },
   "outputs": [
    {
     "name": "stdout",
     "output_type": "stream",
     "text": [
      "Train data shape:  (49000, 3073)\n",
      "Train labels shape:  (49000,)\n",
      "Validation data shape:  (1000, 3073)\n",
      "Validation labels shape:  (1000,)\n",
      "Test data shape:  (1000, 3073)\n",
      "Test labels shape:  (1000,)\n",
      "dev data shape:  (500, 3073)\n",
      "dev labels shape:  (500,)\n"
     ]
    }
   ],
   "source": [
    "def get_CIFAR10_data(num_training=49000, num_validation=1000, num_test=1000, num_dev=500):\n",
    "    \"\"\"\n",
    "    Load the CIFAR-10 dataset from disk and perform preprocessing to prepare\n",
    "    it for the linear classifier. These are the same steps as we used for the\n",
    "    SVM, but condensed to a single function.  \n",
    "    \"\"\"\n",
    "    # Load the raw CIFAR-10 data\n",
    "    cifar10_dir = '../cifar-10-batches-py' # You need to update this line\n",
    "    X_train, y_train, X_test, y_test = load_CIFAR10(cifar10_dir)\n",
    "    \n",
    "    # subsample the data\n",
    "    mask = list(range(num_training, num_training + num_validation))\n",
    "    X_val = X_train[mask]\n",
    "    y_val = y_train[mask]\n",
    "    mask = list(range(num_training))\n",
    "    X_train = X_train[mask]\n",
    "    y_train = y_train[mask]\n",
    "    mask = list(range(num_test))\n",
    "    X_test = X_test[mask]\n",
    "    y_test = y_test[mask]\n",
    "    mask = np.random.choice(num_training, num_dev, replace=False)\n",
    "    X_dev = X_train[mask]\n",
    "    y_dev = y_train[mask]\n",
    "    \n",
    "    # Preprocessing: reshape the image data into rows\n",
    "    X_train = np.reshape(X_train, (X_train.shape[0], -1))\n",
    "    X_val = np.reshape(X_val, (X_val.shape[0], -1))\n",
    "    X_test = np.reshape(X_test, (X_test.shape[0], -1))\n",
    "    X_dev = np.reshape(X_dev, (X_dev.shape[0], -1))\n",
    "    \n",
    "    # Normalize the data: subtract the mean image\n",
    "    mean_image = np.mean(X_train, axis = 0)\n",
    "    X_train -= mean_image\n",
    "    X_val -= mean_image\n",
    "    X_test -= mean_image\n",
    "    X_dev -= mean_image\n",
    "    \n",
    "    # add bias dimension and transform into columns\n",
    "    X_train = np.hstack([X_train, np.ones((X_train.shape[0], 1))])\n",
    "    X_val = np.hstack([X_val, np.ones((X_val.shape[0], 1))])\n",
    "    X_test = np.hstack([X_test, np.ones((X_test.shape[0], 1))])\n",
    "    X_dev = np.hstack([X_dev, np.ones((X_dev.shape[0], 1))])\n",
    "    \n",
    "    return X_train, y_train, X_val, y_val, X_test, y_test, X_dev, y_dev\n",
    "\n",
    "\n",
    "# Invoke the above function to get our data.\n",
    "X_train, y_train, X_val, y_val, X_test, y_test, X_dev, y_dev = get_CIFAR10_data()\n",
    "print('Train data shape: ', X_train.shape)\n",
    "print('Train labels shape: ', y_train.shape)\n",
    "print('Validation data shape: ', X_val.shape)\n",
    "print('Validation labels shape: ', y_val.shape)\n",
    "print('Test data shape: ', X_test.shape)\n",
    "print('Test labels shape: ', y_test.shape)\n",
    "print('dev data shape: ', X_dev.shape)\n",
    "print('dev labels shape: ', y_dev.shape)"
   ]
  },
  {
   "cell_type": "markdown",
   "metadata": {},
   "source": [
    "## Training a softmax classifier.\n",
    "\n",
    "The following cells will take you through building a softmax classifier.  You will implement its loss function, then subsequently train it with gradient descent.  Finally, you will choose the learning rate of gradient descent to optimize its classification performance."
   ]
  },
  {
   "cell_type": "code",
   "execution_count": 3,
   "metadata": {},
   "outputs": [],
   "source": [
    "from nndl import Softmax"
   ]
  },
  {
   "cell_type": "code",
   "execution_count": 4,
   "metadata": {},
   "outputs": [],
   "source": [
    "# Declare an instance of the Softmax class.  \n",
    "# Weights are initialized to a random value.\n",
    "# Note, to keep people's first solutions consistent, we are going to use a random seed.\n",
    "\n",
    "np.random.seed(1)\n",
    "\n",
    "num_classes = len(np.unique(y_train))\n",
    "num_features = X_train.shape[1]\n",
    "\n",
    "softmax = Softmax(dims=[num_classes, num_features])"
   ]
  },
  {
   "cell_type": "markdown",
   "metadata": {},
   "source": [
    "#### Softmax loss"
   ]
  },
  {
   "cell_type": "code",
   "execution_count": 17,
   "metadata": {},
   "outputs": [],
   "source": [
    "## Implement the loss function of the softmax using a for loop over\n",
    "#  the number of examples\n",
    "\n",
    "loss = softmax.loss(X_train, y_train)"
   ]
  },
  {
   "cell_type": "code",
   "execution_count": 18,
   "metadata": {},
   "outputs": [
    {
     "name": "stdout",
     "output_type": "stream",
     "text": [
      "2.3277607028048966\n"
     ]
    }
   ],
   "source": [
    "\n",
    "print(loss)"
   ]
  },
  {
   "cell_type": "markdown",
   "metadata": {},
   "source": [
    "## Question: \n",
    "\n",
    "You'll notice the loss returned by the softmax is about 2.3 (if implemented correctly).  Why does this make sense?"
   ]
  },
  {
   "cell_type": "markdown",
   "metadata": {},
   "source": [
    "## Answer:\n",
    "\n",
    "The loss is relatively small in magnitude since we are taking the log of the averaged loss."
   ]
  },
  {
   "cell_type": "markdown",
   "metadata": {},
   "source": [
    "#### Softmax gradient"
   ]
  },
  {
   "cell_type": "code",
   "execution_count": 24,
   "metadata": {
    "scrolled": false
   },
   "outputs": [
    {
     "name": "stdout",
     "output_type": "stream",
     "text": [
      "numerical: -0.739617 analytic: -0.739617, relative error: 5.869846e-08\n",
      "numerical: 1.976717 analytic: 1.976717, relative error: 3.426518e-08\n",
      "numerical: 1.148625 analytic: 1.148625, relative error: 1.220217e-08\n",
      "numerical: -2.225346 analytic: -2.225346, relative error: 1.370702e-08\n",
      "numerical: 1.433704 analytic: 1.433704, relative error: 1.796452e-08\n",
      "numerical: 2.102476 analytic: 2.102476, relative error: 3.654550e-08\n",
      "numerical: -0.945742 analytic: -0.945742, relative error: 2.820375e-08\n",
      "numerical: -1.673712 analytic: -1.673712, relative error: 2.339767e-08\n",
      "numerical: 1.042815 analytic: 1.042815, relative error: 2.259348e-08\n",
      "numerical: 1.151928 analytic: 1.151928, relative error: 1.744574e-08\n"
     ]
    }
   ],
   "source": [
    "## Calculate the gradient of the softmax loss in the Softmax class.\n",
    "# For convenience, we'll write one function that computes the loss\n",
    "#   and gradient together, softmax.loss_and_grad(X, y)\n",
    "# You may copy and paste your loss code from softmax.loss() here, and then\n",
    "#   use the appropriate intermediate values to calculate the gradient.\n",
    "\n",
    "loss, grad = softmax.loss_and_grad(X_dev,y_dev)\n",
    "\n",
    "# Compare your gradient to a gradient check we wrote. \n",
    "# You should see relative gradient errors on the order of 1e-07 or less if you implemented the gradient correctly.\n",
    "softmax.grad_check_sparse(X_dev, y_dev, grad)"
   ]
  },
  {
   "cell_type": "markdown",
   "metadata": {},
   "source": [
    "## A vectorized version of Softmax\n",
    "\n",
    "To speed things up, we will vectorize the loss and gradient calculations.  This will be helpful for stochastic gradient descent."
   ]
  },
  {
   "cell_type": "code",
   "execution_count": 25,
   "metadata": {},
   "outputs": [
    {
     "name": "stdout",
     "output_type": "stream",
     "text": [
      "(10, 3073)\n",
      "(49000, 3073)\n"
     ]
    }
   ],
   "source": [
    "import time\n",
    "print(grad.shape)\n",
    "print(X_train.shape)"
   ]
  },
  {
   "cell_type": "code",
   "execution_count": 26,
   "metadata": {},
   "outputs": [
    {
     "name": "stdout",
     "output_type": "stream",
     "text": [
      "Normal loss / grad_norm: 2.3280907427091253 / 343.2056899171455 computed in 0.0509340763092041s\n",
      "Vectorized loss / grad: 2.3280907427091235 / 343.20568991714555 computed in 0.0049059391021728516s\n",
      "difference in loss / grad: 1.7763568394002505e-15 /2.339374734623335e-13 \n"
     ]
    }
   ],
   "source": [
    "## Implement softmax.fast_loss_and_grad which calculates the loss and gradient\n",
    "#    WITHOUT using any for loops.  \n",
    "\n",
    "# Standard loss and gradient\n",
    "tic = time.time()\n",
    "loss, grad = softmax.loss_and_grad(X_dev, y_dev)\n",
    "toc = time.time()\n",
    "print('Normal loss / grad_norm: {} / {} computed in {}s'.format(loss, np.linalg.norm(grad, 'fro'), toc - tic))\n",
    "\n",
    "tic = time.time()\n",
    "loss_vectorized, grad_vectorized = softmax.fast_loss_and_grad(X_dev, y_dev)\n",
    "toc = time.time()\n",
    "print('Vectorized loss / grad: {} / {} computed in {}s'.format(loss_vectorized, np.linalg.norm(grad_vectorized, 'fro'), toc - tic))\n",
    "\n",
    "# The losses should match but your vectorized implementation should be much faster.\n",
    "print('difference in loss / grad: {} /{} '.format(loss - loss_vectorized, np.linalg.norm(grad - grad_vectorized)))\n",
    "\n",
    "# You should notice a speedup with the same output."
   ]
  },
  {
   "cell_type": "markdown",
   "metadata": {},
   "source": [
    "## Stochastic gradient descent\n",
    "\n",
    "We now implement stochastic gradient descent.  This uses the same principles of gradient descent we discussed in class, however, it calculates the gradient by only using examples from a subset of the training set (so each gradient calculation is faster)."
   ]
  },
  {
   "cell_type": "code",
   "execution_count": 27,
   "metadata": {
    "scrolled": false
   },
   "outputs": [
    {
     "name": "stdout",
     "output_type": "stream",
     "text": [
      "iteration 0 / 1500: loss 2.2764551353551408\n",
      "iteration 100 / 1500: loss 2.081742628965037\n",
      "iteration 200 / 1500: loss 1.968296042091064\n",
      "iteration 300 / 1500: loss 1.9512785118184592\n",
      "iteration 400 / 1500: loss 1.880116936558337\n",
      "iteration 500 / 1500: loss 1.797482035676265\n",
      "iteration 600 / 1500: loss 1.8017495585902168\n",
      "iteration 700 / 1500: loss 1.8412010671818828\n",
      "iteration 800 / 1500: loss 1.7691886577962912\n",
      "iteration 900 / 1500: loss 1.8286663247616388\n",
      "iteration 1000 / 1500: loss 1.8095484993348476\n",
      "iteration 1100 / 1500: loss 1.7895031868336235\n",
      "iteration 1200 / 1500: loss 1.879544765396779\n",
      "iteration 1300 / 1500: loss 1.8630129054196396\n",
      "iteration 1400 / 1500: loss 1.906853030716955\n",
      "That took 6.162401914596558s\n"
     ]
    },
    {
     "data": {
      "image/png": "[encoded data removed]",
      "text/plain": [
       "<Figure size 432x288 with 1 Axes>"
      ]
     },
     "metadata": {
      "needs_background": "light"
     },
     "output_type": "display_data"
    }
   ],
   "source": [
    "# Implement softmax.train() by filling in the code to extract a batch of data\n",
    "# and perform the gradient step.\n",
    "import time\n",
    "\n",
    "tic = time.time()\n",
    "loss_hist = softmax.train(X_train, y_train, learning_rate=1e-7,\n",
    "                      num_iters=1500, verbose=True)\n",
    "toc = time.time()\n",
    "print('That took {}s'.format(toc - tic))\n",
    "\n",
    "plt.plot(loss_hist)\n",
    "plt.xlabel('Iteration number')\n",
    "plt.ylabel('Loss value')\n",
    "plt.show()"
   ]
  },
  {
   "cell_type": "markdown",
   "metadata": {},
   "source": [
    "### Evaluate the performance of the trained softmax classifier on the validation data."
   ]
  },
  {
   "cell_type": "code",
   "execution_count": 30,
   "metadata": {},
   "outputs": [
    {
     "name": "stdout",
     "output_type": "stream",
     "text": [
      "training accuracy: 0.3808979591836735\n",
      "validation accuracy: 0.388\n"
     ]
    }
   ],
   "source": [
    "## Implement softmax.predict() and use it to compute the training and testing error.\n",
    "\n",
    "y_train_pred = softmax.predict(X_train)\n",
    "print('training accuracy: {}'.format(np.mean(np.equal(y_train,y_train_pred), )))\n",
    "y_val_pred = softmax.predict(X_val)\n",
    "print('validation accuracy: {}'.format(np.mean(np.equal(y_val, y_val_pred)), ))"
   ]
  },
  {
   "cell_type": "markdown",
   "metadata": {},
   "source": [
    "## Optimize the softmax classifier"
   ]
  },
  {
   "cell_type": "code",
   "execution_count": 31,
   "metadata": {},
   "outputs": [
    {
     "data": {
      "text/plain": [
       "2.220446049250313e-16"
      ]
     },
     "execution_count": 31,
     "metadata": {},
     "output_type": "execute_result"
    }
   ],
   "source": [
    "np.finfo(float).eps"
   ]
  },
  {
   "cell_type": "code",
   "execution_count": 42,
   "metadata": {
    "scrolled": false
   },
   "outputs": [
    {
     "name": "stdout",
     "output_type": "stream",
     "text": [
      "iteration 0 / 1500: loss 2.3747802256659782\n",
      "iteration 100 / 1500: loss 2.0794240163509254\n",
      "iteration 200 / 1500: loss 1.9864266880878103\n",
      "iteration 300 / 1500: loss 1.9738263455240033\n",
      "iteration 400 / 1500: loss 1.9356773472872708\n",
      "iteration 500 / 1500: loss 1.704373387557565\n",
      "iteration 600 / 1500: loss 1.7980161366865106\n",
      "iteration 700 / 1500: loss 1.850510294214842\n",
      "iteration 800 / 1500: loss 1.7456330489686425\n",
      "iteration 900 / 1500: loss 1.8456693179897774\n",
      "iteration 1000 / 1500: loss 1.8738813545607216\n",
      "iteration 1100 / 1500: loss 1.8540927800832014\n",
      "iteration 1200 / 1500: loss 1.828715342363835\n",
      "iteration 1300 / 1500: loss 1.772773767429569\n",
      "iteration 1400 / 1500: loss 1.8805778388870595\n",
      "iteration 0 / 1500: loss 2.3824389619657724\n",
      "iteration 100 / 1500: loss 1.8507991548201728\n",
      "iteration 200 / 1500: loss 1.8359986116005456\n",
      "iteration 300 / 1500: loss 1.7318642933793853\n",
      "iteration 400 / 1500: loss 1.7044799494772587\n",
      "iteration 500 / 1500: loss 1.7099036063742812\n",
      "iteration 600 / 1500: loss 1.6690526665815006\n",
      "iteration 700 / 1500: loss 1.617260081239249\n",
      "iteration 800 / 1500: loss 1.7078474956760183\n",
      "iteration 900 / 1500: loss 1.6824785887342086\n",
      "iteration 1000 / 1500: loss 1.7403599521290618\n",
      "iteration 1100 / 1500: loss 1.7322229592652691\n",
      "iteration 1200 / 1500: loss 1.7319428222752284\n",
      "iteration 1300 / 1500: loss 1.6996420318021892\n",
      "iteration 1400 / 1500: loss 1.70324014778175\n",
      "iteration 0 / 1500: loss 2.3463926347893755\n",
      "iteration 100 / 1500: loss 2.5937889258938838\n",
      "iteration 200 / 1500: loss 2.750589886048942\n",
      "iteration 300 / 1500: loss 2.58613471008642\n",
      "iteration 400 / 1500: loss 2.8043268800438246\n",
      "iteration 500 / 1500: loss 2.4048334002266007\n",
      "iteration 600 / 1500: loss 2.944854279461733\n",
      "iteration 700 / 1500: loss 2.518876149671873\n",
      "iteration 800 / 1500: loss 2.471703923318877\n",
      "iteration 900 / 1500: loss 3.0150748609894698\n",
      "iteration 1000 / 1500: loss 1.896621579564203\n",
      "iteration 1100 / 1500: loss 2.4847088375930473\n",
      "iteration 1200 / 1500: loss 2.887462565259399\n",
      "iteration 1300 / 1500: loss 2.1374084595576406\n",
      "iteration 1400 / 1500: loss 2.3198669488885364\n",
      "iteration 0 / 1500: loss 2.3652425491731766\n",
      "iteration 100 / 1500: loss 24.91042684069967\n",
      "iteration 200 / 1500: loss 36.48280167106154\n",
      "iteration 300 / 1500: loss 40.23176140756391\n",
      "iteration 400 / 1500: loss 25.66049978928792\n",
      "iteration 500 / 1500: loss 30.851730469840696\n",
      "iteration 600 / 1500: loss 32.74346390197505\n",
      "iteration 700 / 1500: loss 32.4040845067953\n",
      "iteration 800 / 1500: loss 15.130561807794049\n",
      "iteration 900 / 1500: loss 26.381086807679804\n",
      "iteration 1000 / 1500: loss 18.799953536456087\n",
      "iteration 1100 / 1500: loss 23.865506137184028\n",
      "iteration 1200 / 1500: loss 26.808921425538028\n",
      "iteration 1300 / 1500: loss 19.27477574438051\n",
      "iteration 1400 / 1500: loss 33.57451553496436\n"
     ]
    }
   ],
   "source": [
    "# ================================================================ #\n",
    "# YOUR CODE HERE:\n",
    "#   Train the Softmax classifier with different learning rates and \n",
    "#     evaluate on the validation data.\n",
    "#   Report:\n",
    "#     - The best learning rate of the ones you tested.  \n",
    "#     - The best validation accuracy corresponding to the best validation error.\n",
    "#\n",
    "#   Select the SVM that achieved the best validation error and report\n",
    "#     its error rate on the test set.\n",
    "# ================================================================ #\n",
    "\n",
    "learning_rates = [1e-7, 1e-6, 1e-5, 1e-4]\n",
    "num_iter = 1500\n",
    "losses = []\n",
    "accs = []\n",
    "\n",
    "for i, lr in enumerate(learning_rates):\n",
    "\n",
    "    # train softmax classifier\n",
    "    loss_hist = softmax.train(X_train, y_train, learning_rate=lr, num_iters=num_iter, verbose=False)\n",
    "    \n",
    "    losses.append(loss_hist)\n",
    "    y_val_pred = softmax.predict(X_val)\n",
    "    acc = np.mean(np.equal(y_val, y_val_pred))\n",
    "    accs.append(acc)\n",
    "    \n",
    "# ================================================================ #\n",
    "# END YOUR CODE HERE\n",
    "# ================================================================ #\n"
   ]
  },
  {
   "cell_type": "code",
   "execution_count": 43,
   "metadata": {},
   "outputs": [
    {
     "data": {
      "image/png": "[encoded data removed]",
      "text/plain": [
       "<Figure size 432x288 with 1 Axes>"
      ]
     },
     "metadata": {
      "needs_background": "light"
     },
     "output_type": "display_data"
    },
    {
     "data": {
      "image/png": "[encoded data removed]",
      "text/plain": [
       "<Figure size 432x288 with 1 Axes>"
      ]
     },
     "metadata": {
      "needs_background": "light"
     },
     "output_type": "display_data"
    },
    {
     "data": {
      "image/png": "[encoded data removed]",
      "text/plain": [
       "<Figure size 432x288 with 1 Axes>"
      ]
     },
     "metadata": {
      "needs_background": "light"
     },
     "output_type": "display_data"
    },
    {
     "data": {
      "image/png": "[encoded data removed]",
      "text/plain": [
       "<Figure size 432x288 with 1 Axes>"
      ]
     },
     "metadata": {
      "needs_background": "light"
     },
     "output_type": "display_data"
    }
   ],
   "source": [
    "for i, lr in enumerate(learning_rates):\n",
    "    plt.title(\"Learning Rate: \" + str(lr))\n",
    "    plt.plot(losses[i])\n",
    "    plt.xlabel('Iteration number')\n",
    "    plt.ylabel('Loss value')\n",
    "    plt.show()\n",
    "    plt.figure\n",
    "    "
   ]
  },
  {
   "cell_type": "code",
   "execution_count": 47,
   "metadata": {},
   "outputs": [
    {
     "name": "stdout",
     "output_type": "stream",
     "text": [
      "Accuracies: [0.392, 0.405, 0.305, 0.259]\n",
      "1\n",
      "Optimal LR: 1e-06\n",
      "Best acc: 0.405\n"
     ]
    }
   ],
   "source": [
    "print(\"Accuracies:\", accs)\n",
    "index = np.argmax(accs)\n",
    "print(index)\n",
    "print(\"Optimal LR:\", learning_rates[index])\n",
    "print('Best acc:', accs[index])"
   ]
  },
  {
   "cell_type": "markdown",
   "metadata": {},
   "source": [
    "# Python Code .py"
   ]
  },
  {
   "cell_type": "code",
   "execution_count": null,
   "metadata": {},
   "outputs": [],
   "source": [
    "import numpy as np\n",
    "\n",
    "\n",
    "class Softmax(object):\n",
    "\n",
    "  def __init__(self, dims=[10, 3073]):\n",
    "    self.init_weights(dims=dims)\n",
    "\n",
    "  def init_weights(self, dims):\n",
    "    \"\"\"\n",
    "    Initializes the weight matrix of the Softmax classifier.  \n",
    "    Note that it has shape (C, D) where C is the number of \n",
    "    classes and D is the feature size.\n",
    "    \"\"\"\n",
    "    self.W = np.random.normal(size=dims) * 0.0001\n",
    "\n",
    "  def loss(self, X, y):\n",
    "    \"\"\"\n",
    "    Calculates the softmax loss.\n",
    "  \n",
    "    Inputs have dimension D, there are C classes, and we operate on minibatches\n",
    "    of N examples.\n",
    "  \n",
    "    Inputs:\n",
    "    - X: A numpy array of shape (N, D) containing a minibatch of data.\n",
    "    - y: A numpy array of shape (N,) containing training labels; y[i] = c means\n",
    "      that X[i] has label c, where 0 <= c < C.\n",
    "  \n",
    "    Returns a tuple of:\n",
    "    - loss as single float\n",
    "    \"\"\"\n",
    "\n",
    "    # Initialize the loss to zero.\n",
    "    loss = 0.0\n",
    "\n",
    "    # ================================================================ #\n",
    "    # YOUR CODE HERE:\n",
    "    #   Calculate the normalized softmax loss.  Store it as the variable loss.\n",
    "    #   (That is, calculate the sum of the losses of all the training \n",
    "    #   set margins, and then normalize the loss by the number of \n",
    "    #   training examples.)\n",
    "    # ================================================================ #\n",
    "    \n",
    "    \n",
    "    size = X.shape[0]\n",
    "    num_classes = len(np.unique(y))\n",
    "    \n",
    "    # for i in range(size):\n",
    "    #   term = 0\n",
    "    #   for j in range(num_classes):\n",
    "    #     term += np.exp(self.W[j] * X[i])\n",
    "    #   loss += (self.W[i] * X[i]) - np.log(term)\n",
    "    \n",
    "    '''\n",
    "    score = np.dot(X, self.W.T) \n",
    "    score -= np.max(score, axis=1, keepdims=True) # use numerical stability\n",
    "    exp_ = np.exp(score)\n",
    "    probabilities = exp_ / np.sum(exp_, axis=1, keepdims=True)\n",
    "    probabilities = probabilities[np.arange(size), y]\n",
    "    loss = -np.sum(np.log(probabilities))\n",
    "    '''\n",
    "\n",
    "    score = X @ self.W.T\n",
    "    for i, x in enumerate(score):\n",
    "      x -= np.max(x) # numerical stability\n",
    "      probability = np.exp(x[y[i]]) / np.sum(np.exp(x))\n",
    "      loss += -np.log(probability)\n",
    "        \n",
    "    loss /= size\n",
    "\n",
    "    # ================================================================ #\n",
    "    # END YOUR CODE HERE\n",
    "    # ================================================================ #\n",
    "\n",
    "    return loss\n",
    "\n",
    "  def loss_and_grad(self, X, y):\n",
    "    \"\"\"\n",
    "    Same as self.loss(X, y), except that it also returns the gradient.\n",
    "\n",
    "    Output: grad -- a matrix of the same dimensions as W containing \n",
    "      the gradient of the loss with respect to W.\n",
    "    \"\"\"\n",
    "\n",
    "    # Initialize the loss and gradient to zero.\n",
    "    loss = 0.0\n",
    "    grad = np.zeros_like(self.W)\n",
    "    \n",
    "    # ================================================================ #\n",
    "    # YOUR CODE HERE:\n",
    "    #   Calculate the softmax loss and the gradient. Store the gradient\n",
    "    #   as the variable grad.\n",
    "    # ================================================================ #\n",
    "\n",
    "    num_classes = len(np.unique(y))\n",
    "    size = X.shape[0]\n",
    "\n",
    "    score = np.dot(X, self.W.T)\n",
    "\n",
    "    for i, x in enumerate(score):\n",
    "      x -= np.max(x) # numerical stability\n",
    "      probability = np.exp(x[y[i]]) / np.sum(np.exp(x))\n",
    "      loss += -np.log(probability)\n",
    "\n",
    "      for j in range(num_classes):\n",
    "        softmax = np.exp(x[j]) / np.sum(np.exp(x))\n",
    "        #grad[j] += X[i] * (softmax - (j == y[j]))\n",
    "        if j == y[i]:\n",
    "          grad[j] += X[i] * (softmax - 1)\n",
    "        else:\n",
    "          grad[j] += X[i] * (softmax)\n",
    "\n",
    "    grad /= size\n",
    "    loss /= size\n",
    "    # ================================================================ #\n",
    "    # END YOUR CODE HERE\n",
    "    # ================================================================ #\n",
    "\n",
    "    return loss, grad\n",
    "\n",
    "  def grad_check_sparse(self, X, y, your_grad, num_checks=10, h=1e-5):\n",
    "    \"\"\"\n",
    "    sample a few random elements and only return numerical\n",
    "    in these dimensions.\n",
    "    \"\"\"\n",
    "  \n",
    "    for i in np.arange(num_checks):\n",
    "      ix = tuple([np.random.randint(m) for m in self.W.shape])\n",
    "  \n",
    "      oldval = self.W[ix]\n",
    "      self.W[ix] = oldval + h # increment by h\n",
    "      fxph = self.loss(X, y)\n",
    "      self.W[ix] = oldval - h # decrement by h\n",
    "      fxmh = self.loss(X,y) # evaluate f(x - h)\n",
    "      self.W[ix] = oldval # reset\n",
    "  \n",
    "      grad_numerical = (fxph - fxmh) / (2 * h)\n",
    "      grad_analytic = your_grad[ix]\n",
    "      rel_error = abs(grad_numerical - grad_analytic) / (abs(grad_numerical) + abs(grad_analytic))\n",
    "      print('numerical: %f analytic: %f, relative error: %e' % (grad_numerical, grad_analytic, rel_error))\n",
    "\n",
    "  def fast_loss_and_grad(self, X, y):\n",
    "    \"\"\"\n",
    "    A vectorized implementation of loss_and_grad. It shares the same\n",
    "    inputs and ouptuts as loss_and_grad.\n",
    "    \"\"\"\n",
    "    loss = 0.0\n",
    "    grad = np.zeros(self.W.shape) # initialize the gradient as zero\n",
    "  \n",
    "    # ================================================================ #\n",
    "    # YOUR CODE HERE:\n",
    "    #   Calculate the softmax loss and gradient WITHOUT any for loops.\n",
    "    # ================================================================ #\n",
    "    \n",
    "    size = X.shape[0]\n",
    "    score = np.dot(X, self.W.T) \n",
    "    #score -= np.max(score, axis=1, keepdims=True) # use numerical stability\n",
    "\n",
    "    # find softmax\n",
    "    exp_ = np.exp(score)\n",
    "    probabilities = exp_ / np.sum(exp_, axis=1, keepdims=True)\n",
    "    loss = -np.sum(np.log(probabilities[np.arange(size), y]))\n",
    "    loss /= size\n",
    "\n",
    "    probabilities[np.arange(size), y] -= 1 # for i != j case of loss function\n",
    "    #print(probabilities.shape)\n",
    "    #print(X.shape)\n",
    "    grad = probabilities.T @ X\n",
    "    grad /= size\n",
    "\n",
    "    # ================================================================ #\n",
    "    # END YOUR CODE HERE\n",
    "    # ================================================================ #\n",
    "\n",
    "    return loss, grad\n",
    "\n",
    "  def train(self, X, y, learning_rate=1e-3, num_iters=100,\n",
    "            batch_size=200, verbose=False):\n",
    "    \"\"\"\n",
    "    Train this linear classifier using stochastic gradient descent.\n",
    "\n",
    "    Inputs:\n",
    "    - X: A numpy array of shape (N, D) containing training data; there are N\n",
    "      training samples each of dimension D.\n",
    "    - y: A numpy array of shape (N,) containing training labels; y[i] = c\n",
    "      means that X[i] has label 0 <= c < C for C classes.\n",
    "    - learning_rate: (float) learning rate for optimization.\n",
    "    - num_iters: (integer) number of steps to take when optimizing\n",
    "    - batch_size: (integer) number of training examples to use at each step.\n",
    "    - verbose: (boolean) If true, print progress during optimization.\n",
    "\n",
    "    Outputs:\n",
    "    A list containing the value of the loss function at each training iteration.\n",
    "    \"\"\"\n",
    "    num_train, dim = X.shape\n",
    "    num_classes = np.max(y) + 1 # assume y takes values 0...K-1 where K is number of classes\n",
    "\n",
    "    self.init_weights(dims=[np.max(y) + 1, X.shape[1]])\t# initializes the weights of self.W\n",
    "\n",
    "    # Run stochastic gradient descent to optimize W\n",
    "    loss_history = []\n",
    "\n",
    "    for it in np.arange(num_iters):\n",
    "      X_batch = None\n",
    "      y_batch = None\n",
    "\n",
    "      # ================================================================ #\n",
    "      # YOUR CODE HERE:\n",
    "      #   Sample batch_size elements from the training data for use in \n",
    "      #     gradient descent.  After sampling,\n",
    "      #     - X_batch should have shape: (batch_size, dim)\n",
    "      #     - y_batch should have shape: (batch_size,)\n",
    "      #   The indices should be randomly generated to reduce correlations\n",
    "      #   in the dataset.  Use np.random.choice.  It's okay to sample with\n",
    "      #   replacement.\n",
    "      # ================================================================ #\n",
    "      \n",
    "      idx = np.random.choice(num_train, batch_size, replace=True)\n",
    "      X_batch = X[idx]\n",
    "      y_batch = y[idx]\n",
    "\n",
    "      # ================================================================ #\n",
    "      # END YOUR CODE HERE\n",
    "      # ================================================================ #\n",
    "\n",
    "      # evaluate loss and gradient\n",
    "      loss, grad = self.fast_loss_and_grad(X_batch, y_batch)\n",
    "      loss_history.append(loss)\n",
    "\n",
    "      # ================================================================ #\n",
    "      # YOUR CODE HERE:\n",
    "      #   Update the parameters, self.W, with a gradient step \n",
    "      # ================================================================ #\n",
    "       \n",
    "      self.W = self.W - learning_rate*grad\n",
    "\n",
    "      # ================================================================ #\n",
    "      # END YOUR CODE HERE\n",
    "      # ================================================================ #\n",
    "\n",
    "      if verbose and it % 100 == 0:\n",
    "        print('iteration {} / {}: loss {}'.format(it, num_iters, loss))\n",
    "\n",
    "    return loss_history\n",
    "\n",
    "  def predict(self, X):\n",
    "    \"\"\"\n",
    "    Inputs:\n",
    "    - X: N x D array of training data. Each row is a D-dimensional point.\n",
    "\n",
    "    Returns:\n",
    "    - y_pred: Predicted labels for the data in X. y_pred is a 1-dimensional\n",
    "      array of length N, and each element is an integer giving the predicted\n",
    "      class.\n",
    "    \"\"\"\n",
    "    y_pred = np.zeros(X.shape[1])\n",
    "    # ================================================================ #\n",
    "    # YOUR CODE HERE:\n",
    "    #   Predict the labels given the training data.\n",
    "    # ================================================================ #\n",
    "    \n",
    "    score = X @ self.W.T\n",
    "    exp_ = np.exp(score)\n",
    "    probabilities = exp_ / np.sum(exp_, axis=1, keepdims=True)\n",
    "    y_pred = np.argmax(probabilities, axis=1)\n",
    "\n",
    "    # ================================================================ #\n",
    "    # END YOUR CODE HERE\n",
    "    # ================================================================ #\n",
    "\n",
    "    return y_pred\n",
    "\n"
   ]
  }
 ],
 "metadata": {
  "kernelspec": {
   "display_name": "conda",
   "language": "python",
   "name": "base"
  },
  "language_info": {
   "codemirror_mode": {
    "name": "ipython",
    "version": 3
   },
   "file_extension": ".py",
   "mimetype": "text/x-python",
   "name": "python",
   "nbconvert_exporter": "python",
   "pygments_lexer": "ipython3",
   "version": "3.9.12"
  }
 },
 "nbformat": 4,
 "nbformat_minor": 2
}
