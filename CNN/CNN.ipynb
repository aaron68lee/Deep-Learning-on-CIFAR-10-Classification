{
 "cells": [
  {
   "cell_type": "markdown",
   "metadata": {},
   "source": [
    "# Convolutional neural networks\n",
    "\n",
    "In this notebook, we'll put together our convolutional layers to implement a 3-layer CNN.  Then, we'll ask you to implement a CNN that can achieve > 65% validation error on CIFAR-10.\n",
    "\n",
    "CS231n has built a solid API for building these modular frameworks and training them, and we will use their very well implemented framework as opposed to \"reinventing the wheel.\"  This includes using their Solver, various utility functions, their layer structure, and their implementation of fast CNN layers.  This also includes nndl.fc_net, nndl.layers, and nndl.layer_utils.  As in prior assignments, we thank Serena Yeung & Justin Johnson for permission to use code written for the CS 231n class (cs231n.stanford.edu).  \n",
    "\n",
    "\n",
    "If you have not completed the Spatial BatchNorm Notebook, please see the following description from that notebook:\n",
    "\n",
    "Please copy and paste your prior implemented code from HW #4 to start this assignment.  If you did not correctly implement the layers in HW #4, you may collaborate with a classmate to use their layer implementations from HW #4.  You may also visit TA or Prof OH to correct your implementation.  \n",
    "\n",
    "You'll want to copy and paste from HW #4:\n",
    "    - layers.py for your FC network layers, as well as batchnorm and dropout.\n",
    "    - layer_utils.py for your combined FC network layers.\n",
    "    - optim.py for your optimizers.\n",
    "\n",
    "Be sure to place these in the `nndl/` directory so they're imported correctly.  Note, as announced in class, we will not be releasing our solutions."
   ]
  },
  {
   "cell_type": "code",
   "execution_count": 1,
   "metadata": {},
   "outputs": [],
   "source": [
    "# As usual, a bit of setup\n",
    "\n",
    "import numpy as np\n",
    "import matplotlib.pyplot as plt\n",
    "from nndl.cnn import *\n",
    "from utils.data_utils import get_CIFAR10_data\n",
    "from utils.gradient_check import eval_numerical_gradient_array, eval_numerical_gradient\n",
    "from nndl.layers import *\n",
    "from nndl.conv_layers import *\n",
    "from utils.fast_layers import *\n",
    "from utils.solver import Solver\n",
    "\n",
    "%matplotlib inline\n",
    "plt.rcParams['figure.figsize'] = (10.0, 8.0) # set default size of plots\n",
    "plt.rcParams['image.interpolation'] = 'nearest'\n",
    "plt.rcParams['image.cmap'] = 'gray'\n",
    "\n",
    "# for auto-reloading external modules\n",
    "# see http://stackoverflow.com/questions/1907993/autoreload-of-modules-in-ipython\n",
    "%load_ext autoreload\n",
    "%autoreload 2\n",
    "\n",
    "def rel_error(x, y):\n",
    "  \"\"\" returns relative error \"\"\"\n",
    "  return np.max(np.abs(x - y) / (np.maximum(1e-8, np.abs(x) + np.abs(y))))"
   ]
  },
  {
   "cell_type": "code",
   "execution_count": 2,
   "metadata": {},
   "outputs": [
    {
     "name": "stdout",
     "output_type": "stream",
     "text": [
      "X_train: (49000, 3, 32, 32) \n",
      "y_train: (49000,) \n",
      "X_val: (1000, 3, 32, 32) \n",
      "y_val: (1000,) \n",
      "X_test: (1000, 3, 32, 32) \n",
      "y_test: (1000,) \n"
     ]
    }
   ],
   "source": [
    "# Load the (preprocessed) CIFAR10 data.\n",
    "from utils.data_utils import get_CIFAR10_data\n",
    "\n",
    "data = get_CIFAR10_data()\n",
    "for k in data.keys():\n",
    "  print('{}: {} '.format(k, data[k].shape))"
   ]
  },
  {
   "cell_type": "markdown",
   "metadata": {},
   "source": [
    "## Three layer CNN\n",
    "\n",
    "In this notebook, you will implement a three layer CNN.  The `ThreeLayerConvNet` class is in `nndl/cnn.py`.  You'll need to modify that code for this section, including the initialization, as well as the calculation of the loss and gradients.  You should be able to use the building blocks you have either earlier coded or that we have provided.  Be sure to use the fast layers.\n",
    "\n",
    "The architecture of this CNN will be:\n",
    "\n",
    "conv - relu - 2x2 max pool - affine - relu - affine - softmax\n",
    "\n",
    "We won't use batchnorm yet.  You've also done enough of these to know how to debug; use the cells below.\n",
    "\n",
    "Note: As we are implementing several layers CNN networks. The gradient error can be expected for the `eval_numerical_gradient()` function. If your `W1 max relative error` and `W2 max relative error` are around or below 0.01, they should be acceptable. Other errors should be less than 1e-5. "
   ]
  },
  {
   "cell_type": "code",
   "execution_count": 12,
   "metadata": {},
   "outputs": [
    {
     "name": "stdout",
     "output_type": "stream",
     "text": [
      "W1 max relative error: 0.0007033020657150326\n",
      "W2 max relative error: 0.0203772992034542\n",
      "W3 max relative error: 0.000611769549484923\n",
      "b1 max relative error: 1.0580334034106284e-05\n",
      "b2 max relative error: 5.800191066596584e-07\n",
      "b3 max relative error: 1.3140433365313657e-09\n"
     ]
    }
   ],
   "source": [
    "num_inputs = 2\n",
    "input_dim = (3, 16, 16)\n",
    "reg = 0.0\n",
    "num_classes = 10\n",
    "X = np.random.randn(num_inputs, *input_dim)\n",
    "y = np.random.randint(num_classes, size=num_inputs)\n",
    "\n",
    "model = ThreeLayerConvNet(num_filters=3, filter_size=3,\n",
    "                          input_dim=input_dim, hidden_dim=7,\n",
    "                          dtype=np.float64)\n",
    "loss, grads = model.loss(X, y)\n",
    "for param_name in sorted(grads):\n",
    "    f = lambda _: model.loss(X, y)[0]\n",
    "    param_grad_num = eval_numerical_gradient(f, model.params[param_name], verbose=False, h=1e-6)\n",
    "    e = rel_error(param_grad_num, grads[param_name])\n",
    "    print('{} max relative error: {}'.format(param_name, rel_error(param_grad_num, grads[param_name])))"
   ]
  },
  {
   "cell_type": "markdown",
   "metadata": {},
   "source": [
    "### Overfit small dataset\n",
    "\n",
    "To check your CNN implementation, let's overfit a small dataset."
   ]
  },
  {
   "cell_type": "code",
   "execution_count": 13,
   "metadata": {},
   "outputs": [
    {
     "name": "stdout",
     "output_type": "stream",
     "text": [
      "(Iteration 1 / 20) loss: 2.338328\n",
      "(Epoch 0 / 10) train acc: 0.230000; val_acc: 0.146000\n",
      "(Iteration 2 / 20) loss: 2.825158\n",
      "(Epoch 1 / 10) train acc: 0.220000; val_acc: 0.127000\n",
      "(Iteration 3 / 20) loss: 2.397820\n",
      "(Iteration 4 / 20) loss: 2.910019\n",
      "(Epoch 2 / 10) train acc: 0.270000; val_acc: 0.166000\n",
      "(Iteration 5 / 20) loss: 2.875493\n",
      "(Iteration 6 / 20) loss: 2.222295\n",
      "(Epoch 3 / 10) train acc: 0.440000; val_acc: 0.221000\n",
      "(Iteration 7 / 20) loss: 2.009234\n",
      "(Iteration 8 / 20) loss: 1.763199\n",
      "(Epoch 4 / 10) train acc: 0.360000; val_acc: 0.197000\n",
      "(Iteration 9 / 20) loss: 1.818114\n",
      "(Iteration 10 / 20) loss: 1.502460\n",
      "(Epoch 5 / 10) train acc: 0.510000; val_acc: 0.195000\n",
      "(Iteration 11 / 20) loss: 1.277237\n",
      "(Iteration 12 / 20) loss: 1.478236\n",
      "(Epoch 6 / 10) train acc: 0.600000; val_acc: 0.191000\n",
      "(Iteration 13 / 20) loss: 1.324016\n",
      "(Iteration 14 / 20) loss: 1.101244\n",
      "(Epoch 7 / 10) train acc: 0.600000; val_acc: 0.183000\n",
      "(Iteration 15 / 20) loss: 1.046674\n",
      "(Iteration 16 / 20) loss: 0.871179\n",
      "(Epoch 8 / 10) train acc: 0.740000; val_acc: 0.208000\n",
      "(Iteration 17 / 20) loss: 0.886514\n",
      "(Iteration 18 / 20) loss: 0.702986\n",
      "(Epoch 9 / 10) train acc: 0.830000; val_acc: 0.215000\n",
      "(Iteration 19 / 20) loss: 0.517500\n",
      "(Iteration 20 / 20) loss: 0.466762\n",
      "(Epoch 10 / 10) train acc: 0.850000; val_acc: 0.217000\n"
     ]
    }
   ],
   "source": [
    "num_train = 100\n",
    "small_data = {\n",
    "  'X_train': data['X_train'][:num_train],\n",
    "  'y_train': data['y_train'][:num_train],\n",
    "  'X_val': data['X_val'],\n",
    "  'y_val': data['y_val'],\n",
    "}\n",
    "\n",
    "model = ThreeLayerConvNet(weight_scale=1e-2)\n",
    "\n",
    "solver = Solver(model, small_data,\n",
    "                num_epochs=10, batch_size=50,\n",
    "                update_rule='adam',\n",
    "                optim_config={\n",
    "                  'learning_rate': 1e-3,\n",
    "                },\n",
    "                verbose=True, print_every=1)\n",
    "solver.train()"
   ]
  },
  {
   "cell_type": "code",
   "execution_count": 14,
   "metadata": {},
   "outputs": [
    {
     "data": {
      "image/png": "[encoded data removed]",
      "text/plain": [
       "<Figure size 720x576 with 2 Axes>"
      ]
     },
     "metadata": {
      "needs_background": "light"
     },
     "output_type": "display_data"
    }
   ],
   "source": [
    "plt.subplot(2, 1, 1)\n",
    "plt.plot(solver.loss_history, 'o')\n",
    "plt.xlabel('iteration')\n",
    "plt.ylabel('loss')\n",
    "\n",
    "plt.subplot(2, 1, 2)\n",
    "plt.plot(solver.train_acc_history, '-o')\n",
    "plt.plot(solver.val_acc_history, '-o')\n",
    "plt.legend(['train', 'val'], loc='upper left')\n",
    "plt.xlabel('epoch')\n",
    "plt.ylabel('accuracy')\n",
    "plt.show()"
   ]
  },
  {
   "cell_type": "markdown",
   "metadata": {},
   "source": [
    "## Train the network\n",
    "\n",
    "Now we train the 3 layer CNN on CIFAR-10 and assess its accuracy."
   ]
  },
  {
   "cell_type": "code",
   "execution_count": 15,
   "metadata": {
    "scrolled": false
   },
   "outputs": [
    {
     "name": "stdout",
     "output_type": "stream",
     "text": [
      "(Iteration 1 / 980) loss: 2.304478\n",
      "(Epoch 0 / 1) train acc: 0.093000; val_acc: 0.102000\n",
      "(Iteration 21 / 980) loss: 1.957307\n",
      "(Iteration 41 / 980) loss: 2.054225\n",
      "(Iteration 61 / 980) loss: 2.219257\n",
      "(Iteration 81 / 980) loss: 1.954008\n",
      "(Iteration 101 / 980) loss: 1.818756\n",
      "(Iteration 121 / 980) loss: 1.845828\n",
      "(Iteration 141 / 980) loss: 1.640710\n",
      "(Iteration 161 / 980) loss: 1.837943\n",
      "(Iteration 181 / 980) loss: 1.929389\n",
      "(Iteration 201 / 980) loss: 1.909499\n",
      "(Iteration 221 / 980) loss: 1.588640\n",
      "(Iteration 241 / 980) loss: 1.886847\n",
      "(Iteration 261 / 980) loss: 1.716281\n",
      "(Iteration 281 / 980) loss: 1.805814\n",
      "(Iteration 301 / 980) loss: 1.593015\n",
      "(Iteration 321 / 980) loss: 1.700540\n",
      "(Iteration 341 / 980) loss: 1.452707\n",
      "(Iteration 361 / 980) loss: 1.585905\n",
      "(Iteration 381 / 980) loss: 1.852675\n",
      "(Iteration 401 / 980) loss: 1.734495\n",
      "(Iteration 421 / 980) loss: 1.598544\n",
      "(Iteration 441 / 980) loss: 1.618790\n",
      "(Iteration 461 / 980) loss: 1.798222\n",
      "(Iteration 481 / 980) loss: 1.479640\n",
      "(Iteration 501 / 980) loss: 1.571624\n",
      "(Iteration 521 / 980) loss: 1.525113\n",
      "(Iteration 541 / 980) loss: 1.851334\n",
      "(Iteration 561 / 980) loss: 1.575866\n",
      "(Iteration 581 / 980) loss: 1.554900\n",
      "(Iteration 601 / 980) loss: 1.517741\n",
      "(Iteration 621 / 980) loss: 1.589374\n",
      "(Iteration 641 / 980) loss: 1.480773\n",
      "(Iteration 661 / 980) loss: 1.487140\n",
      "(Iteration 681 / 980) loss: 1.476634\n",
      "(Iteration 701 / 980) loss: 1.625043\n",
      "(Iteration 721 / 980) loss: 1.662771\n",
      "(Iteration 741 / 980) loss: 1.713058\n",
      "(Iteration 761 / 980) loss: 1.511334\n",
      "(Iteration 781 / 980) loss: 1.508350\n",
      "(Iteration 801 / 980) loss: 1.365782\n",
      "(Iteration 821 / 980) loss: 1.494590\n",
      "(Iteration 841 / 980) loss: 1.494894\n",
      "(Iteration 861 / 980) loss: 1.629222\n",
      "(Iteration 881 / 980) loss: 1.481229\n",
      "(Iteration 901 / 980) loss: 1.498286\n",
      "(Iteration 921 / 980) loss: 1.492346\n",
      "(Iteration 941 / 980) loss: 1.548265\n",
      "(Iteration 961 / 980) loss: 1.901659\n",
      "(Epoch 1 / 1) train acc: 0.499000; val_acc: 0.492000\n"
     ]
    }
   ],
   "source": [
    "model = ThreeLayerConvNet(weight_scale=0.001, hidden_dim=500, reg=0.001)\n",
    "\n",
    "solver = Solver(model, data,\n",
    "                num_epochs=1, batch_size=50,\n",
    "                update_rule='adam',\n",
    "                optim_config={\n",
    "                  'learning_rate': 1e-3,\n",
    "                },\n",
    "                verbose=True, print_every=20)\n",
    "solver.train()"
   ]
  },
  {
   "cell_type": "markdown",
   "metadata": {},
   "source": [
    "# Get > 65% validation accuracy on CIFAR-10.\n",
    "\n",
    "In the last part of the assignment, we'll now ask you to train a CNN to get better than 65% validation accuracy on CIFAR-10.\n",
    "\n",
    "### Things you should try:\n",
    "- Filter size: Above we used 7x7; but VGGNet and onwards showed stacks of 3x3 filters are good.  \n",
    "- Number of filters: Above we used 32 filters. Do more or fewer do better?\n",
    "- Batch normalization: Try adding spatial batch normalization after convolution layers and vanilla batch normalization aafter affine layers. Do your networks train faster?\n",
    "- Network architecture: Can a deeper CNN do better?  Consider these architectures:\n",
    "    - [conv-relu-pool]xN - conv - relu - [affine]xM - [softmax or SVM]\n",
    "    - [conv-relu-pool]XN - [affine]XM - [softmax or SVM]\n",
    "    - [conv-relu-conv-relu-pool]xN - [affine]xM - [softmax or SVM]\n",
    "\n",
    "### Tips for training\n",
    "For each network architecture that you try, you should tune the learning rate and regularization strength. When doing this there are a couple important things to keep in mind:\n",
    "\n",
    "- If the parameters are working well, you should see improvement within a few hundred iterations\n",
    "- Remember the coarse-to-fine approach for hyperparameter tuning: start by testing a large range of hyperparameters for just a few training iterations to find the combinations of parameters that are working at all.\n",
    "- Once you have found some sets of parameters that seem to work, search more finely around these parameters. You may need to train for more epochs."
   ]
  },
  {
   "cell_type": "code",
   "execution_count": 16,
   "metadata": {
    "scrolled": false
   },
   "outputs": [
    {
     "name": "stdout",
     "output_type": "stream",
     "text": [
      "(Iteration 1 / 540) loss: 2.304625\n",
      "(Epoch 0 / 10) train acc: 0.113000; val_acc: 0.119000\n",
      "(Iteration 21 / 540) loss: 1.860230\n",
      "(Iteration 41 / 540) loss: 1.620435\n",
      "(Epoch 1 / 10) train acc: 0.482000; val_acc: 0.502000\n",
      "(Iteration 61 / 540) loss: 1.414438\n",
      "(Iteration 81 / 540) loss: 1.381935\n",
      "(Iteration 101 / 540) loss: 1.227952\n",
      "(Epoch 2 / 10) train acc: 0.568000; val_acc: 0.560000\n",
      "(Iteration 121 / 540) loss: 1.250895\n",
      "(Iteration 141 / 540) loss: 1.139263\n",
      "(Iteration 161 / 540) loss: 1.166382\n",
      "(Epoch 3 / 10) train acc: 0.651000; val_acc: 0.604000\n",
      "(Iteration 181 / 540) loss: 1.070194\n",
      "(Iteration 201 / 540) loss: 1.091027\n",
      "(Epoch 4 / 10) train acc: 0.653000; val_acc: 0.599000\n",
      "(Iteration 221 / 540) loss: 1.096030\n",
      "(Iteration 241 / 540) loss: 1.053639\n",
      "(Iteration 261 / 540) loss: 0.954021\n",
      "(Epoch 5 / 10) train acc: 0.677000; val_acc: 0.640000\n",
      "(Iteration 281 / 540) loss: 0.979155\n",
      "(Iteration 301 / 540) loss: 0.889129\n",
      "(Iteration 321 / 540) loss: 0.866089\n",
      "(Epoch 6 / 10) train acc: 0.724000; val_acc: 0.650000\n",
      "(Iteration 341 / 540) loss: 0.895322\n",
      "(Iteration 361 / 540) loss: 0.885360\n",
      "(Epoch 7 / 10) train acc: 0.761000; val_acc: 0.657000\n",
      "(Iteration 381 / 540) loss: 0.830068\n",
      "(Iteration 401 / 540) loss: 0.814579\n",
      "(Iteration 421 / 540) loss: 0.747210\n",
      "(Epoch 8 / 10) train acc: 0.751000; val_acc: 0.635000\n",
      "(Iteration 441 / 540) loss: 0.721917\n",
      "(Iteration 461 / 540) loss: 0.743739\n",
      "(Iteration 481 / 540) loss: 0.695943\n",
      "(Epoch 9 / 10) train acc: 0.778000; val_acc: 0.647000\n",
      "(Iteration 501 / 540) loss: 0.845443\n",
      "(Iteration 521 / 540) loss: 0.847751\n",
      "(Epoch 10 / 10) train acc: 0.774000; val_acc: 0.636000\n"
     ]
    }
   ],
   "source": [
    "# ================================================================ #\n",
    "# YOUR CODE HERE:\n",
    "#   Implement a CNN to achieve greater than 65% validation accuracy\n",
    "#   on CIFAR-10.\n",
    "# ================================================================ #\n",
    "\n",
    "model = ThreeLayerConvNet(weight_scale=0.001, hidden_dim=500, reg=0.001)\n",
    "\n",
    "solver = Solver(model, data,\n",
    "                num_epochs=10, batch_size=900,\n",
    "                update_rule='adam',\n",
    "                optim_config={\n",
    "                  'learning_rate': 1e-3,\n",
    "                },\n",
    "                verbose=True, print_every=20)\n",
    "solver.train()\n",
    "\n",
    "# ================================================================ #\n",
    "# END YOUR CODE HERE\n",
    "# ================================================================ #\n"
   ]
  },
  {
   "cell_type": "code",
   "execution_count": 17,
   "metadata": {},
   "outputs": [
    {
     "data": {
      "image/png": "[encoded data removed]",
      "text/plain": [
       "<Figure size 720x576 with 2 Axes>"
      ]
     },
     "metadata": {
      "needs_background": "light"
     },
     "output_type": "display_data"
    }
   ],
   "source": [
    "plt.subplot(2, 1, 1)\n",
    "plt.plot(solver.loss_history, 'o')\n",
    "plt.xlabel('iteration')\n",
    "plt.ylabel('loss')\n",
    "\n",
    "plt.subplot(2, 1, 2)\n",
    "plt.plot(solver.train_acc_history, '-o')\n",
    "plt.plot(solver.val_acc_history, '-o')\n",
    "plt.legend(['train', 'val'], loc='upper left')\n",
    "plt.xlabel('epoch')\n",
    "plt.ylabel('accuracy')\n",
    "plt.show()"
   ]
  },
  {
   "cell_type": "code",
   "execution_count": null,
   "metadata": {},
   "outputs": [],
   "source": []
  }
 ],
 "metadata": {
  "kernelspec": {
   "display_name": "conda",
   "language": "python",
   "name": "base"
  },
  "language_info": {
   "codemirror_mode": {
    "name": "ipython",
    "version": 3
   },
   "file_extension": ".py",
   "mimetype": "text/x-python",
   "name": "python",
   "nbconvert_exporter": "python",
   "pygments_lexer": "ipython3",
   "version": "3.9.12"
  }
 },
 "nbformat": 4,
 "nbformat_minor": 2
}
